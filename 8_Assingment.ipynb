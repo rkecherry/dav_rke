{
 "cells": [
  {
   "cell_type": "markdown",
   "id": "51fa19d6",
   "metadata": {},
   "source": [
    "#### <div style=\"color:#0077b6; text-align:right\">NAME : SANJHI JAIN</div>\n",
    "#### <div style=\"color:#0077b6; text-align:right\">ROLL NO : CSC/21/19</div>"
   ]
  },
  {
   "cell_type": "markdown",
   "id": "ade1dbbf",
   "metadata": {},
   "source": [
    "## <span style=\"color:#4a4e69\">PRACTICAL 08 </span>"
   ]
  },
  {
   "cell_type": "markdown",
   "id": "24157bf4",
   "metadata": {},
   "source": [
    "#### <span style=\"color:#007f5f\">8.Consider the following data frame containing a family name,gender of the family member and her/his monthly income in each record.</span>\n",
    "\n",
    "<table>\n",
    "    <tr>\n",
    "        <th>Name</th>\n",
    "        <th>Gender</th>\n",
    "        <th>MonthlyIncome(Rs.)</th>\n",
    "    </tr>\n",
    "    <tr>\n",
    "        <td>Shah</td>\n",
    "        <td>Male</td>\n",
    "        <td>114000.00</td>\n",
    "    </tr>\n",
    "    <tr>\n",
    "        <td>Vats</td>\n",
    "        <td>Male</td>\n",
    "        <td>65000.00</td>\n",
    "    </tr>\n",
    "    <tr>\n",
    "        <td>Vats</td>\n",
    "        <td>Female</td>\n",
    "        <td>43150.00</td>\n",
    "    </tr>\n",
    "    <tr>\n",
    "        <td>Kumar</td>\n",
    "        <td>Female</td>\n",
    "        <td>69500.00</td>\n",
    "    </tr>\n",
    "    <tr>\n",
    "        <td>Vats</td>\n",
    "        <td>Female</td>\n",
    "        <td>155000.00</td>\n",
    "    </tr>\n",
    "    <tr>\n",
    "        <td>Kumar</td>\n",
    "        <td>Male</td>\n",
    "        <td>103000.00</td>\n",
    "    </tr>\n",
    "    <tr>\n",
    "        <td>Shah</td>\n",
    "        <td>Male</td>\n",
    "        <td>55000.00</td>\n",
    "    </tr>\n",
    "    <tr>\n",
    "        <td>Shah</td>\n",
    "        <td>Female</td>\n",
    "        <td>112400.00</td>\n",
    "    </tr>\n",
    "    <tr>\n",
    "        <td>Kumar</td>\n",
    "        <td>Female</td>\n",
    "        <td>81030.00</td>\n",
    "    </tr>\n",
    "    <tr>\n",
    "        <td>Vats</td>\n",
    "        <td>Male</td>\n",
    "        <td>71900.00</td>\n",
    "    </tr>\n",
    "</table>"
   ]
  },
  {
   "cell_type": "code",
   "execution_count": 1,
   "id": "b409ba4e",
   "metadata": {},
   "outputs": [],
   "source": [
    "# importing numpy  library\n",
    "# importing pandas library\n",
    "import numpy as np\n",
    "import pandas as pd"
   ]
  },
  {
   "cell_type": "code",
   "execution_count": 2,
   "id": "b3632ee3",
   "metadata": {},
   "outputs": [
    {
     "data": {
      "text/html": [
       "<div>\n",
       "<style scoped>\n",
       "    .dataframe tbody tr th:only-of-type {\n",
       "        vertical-align: middle;\n",
       "    }\n",
       "\n",
       "    .dataframe tbody tr th {\n",
       "        vertical-align: top;\n",
       "    }\n",
       "\n",
       "    .dataframe thead th {\n",
       "        text-align: right;\n",
       "    }\n",
       "</style>\n",
       "<table border=\"1\" class=\"dataframe\">\n",
       "  <thead>\n",
       "    <tr style=\"text-align: right;\">\n",
       "      <th></th>\n",
       "      <th>Name</th>\n",
       "      <th>Gender</th>\n",
       "      <th>MonthlyIncome</th>\n",
       "    </tr>\n",
       "  </thead>\n",
       "  <tbody>\n",
       "    <tr>\n",
       "      <th>0</th>\n",
       "      <td>Shah</td>\n",
       "      <td>Male</td>\n",
       "      <td>114000.0</td>\n",
       "    </tr>\n",
       "    <tr>\n",
       "      <th>1</th>\n",
       "      <td>Vats</td>\n",
       "      <td>Male</td>\n",
       "      <td>65000.0</td>\n",
       "    </tr>\n",
       "    <tr>\n",
       "      <th>2</th>\n",
       "      <td>Vats</td>\n",
       "      <td>Female</td>\n",
       "      <td>43150.0</td>\n",
       "    </tr>\n",
       "    <tr>\n",
       "      <th>3</th>\n",
       "      <td>Kumar</td>\n",
       "      <td>Female</td>\n",
       "      <td>69500.0</td>\n",
       "    </tr>\n",
       "    <tr>\n",
       "      <th>4</th>\n",
       "      <td>Vats</td>\n",
       "      <td>Female</td>\n",
       "      <td>155000.0</td>\n",
       "    </tr>\n",
       "    <tr>\n",
       "      <th>5</th>\n",
       "      <td>Kumar</td>\n",
       "      <td>Male</td>\n",
       "      <td>103000.0</td>\n",
       "    </tr>\n",
       "    <tr>\n",
       "      <th>6</th>\n",
       "      <td>Shah</td>\n",
       "      <td>Male</td>\n",
       "      <td>55000.0</td>\n",
       "    </tr>\n",
       "    <tr>\n",
       "      <th>7</th>\n",
       "      <td>Shah</td>\n",
       "      <td>Female</td>\n",
       "      <td>112400.0</td>\n",
       "    </tr>\n",
       "    <tr>\n",
       "      <th>8</th>\n",
       "      <td>Kumar</td>\n",
       "      <td>Female</td>\n",
       "      <td>81030.0</td>\n",
       "    </tr>\n",
       "    <tr>\n",
       "      <th>9</th>\n",
       "      <td>Vats</td>\n",
       "      <td>Male</td>\n",
       "      <td>71900.0</td>\n",
       "    </tr>\n",
       "  </tbody>\n",
       "</table>\n",
       "</div>"
      ],
      "text/plain": [
       "    Name  Gender  MonthlyIncome\n",
       "0   Shah    Male       114000.0\n",
       "1   Vats    Male        65000.0\n",
       "2   Vats  Female        43150.0\n",
       "3  Kumar  Female        69500.0\n",
       "4   Vats  Female       155000.0\n",
       "5  Kumar    Male       103000.0\n",
       "6   Shah    Male        55000.0\n",
       "7   Shah  Female       112400.0\n",
       "8  Kumar  Female        81030.0\n",
       "9   Vats    Male        71900.0"
      ]
     },
     "execution_count": 2,
     "metadata": {},
     "output_type": "execute_result"
    }
   ],
   "source": [
    "#loading dataset into dataframe\n",
    "data = {\n",
    "    'Name': ['Shah', 'Vats', 'Vats', 'Kumar', 'Vats', 'Kumar', 'Shah', 'Shah', 'Kumar', 'Vats'],\n",
    "    'Gender': ['Male', 'Male', 'Female', 'Female', 'Female', 'Male', 'Male', 'Female', 'Female', 'Male'],\n",
    "    'MonthlyIncome': [114000.00, 65000.00, 43150.00, 69500.00, 155000.00, 103000.00, 55000.00, 112400.00, 81030.00, 71900.00]\n",
    "}\n",
    "df = pd.DataFrame(data)\n",
    "df"
   ]
  },
  {
   "cell_type": "markdown",
   "id": "e007c8bf",
   "metadata": {},
   "source": [
    "##### <span style=\"color:#003f88\">a. Calculate and display familywise gross monthly income</span>"
   ]
  },
  {
   "cell_type": "code",
   "execution_count": 3,
   "id": "6b2666fe",
   "metadata": {},
   "outputs": [
    {
     "name": "stdout",
     "output_type": "stream",
     "text": [
      "Familywise Gross Monthly Income:\n",
      "Name\n",
      "Kumar    253530.0\n",
      "Shah     281400.0\n",
      "Vats     335050.0\n",
      "Name: MonthlyIncome, dtype: float64\n"
     ]
    }
   ],
   "source": [
    "familywise_income = df.groupby('Name')['MonthlyIncome'].sum()\n",
    "print(\"Familywise Gross Monthly Income:\")\n",
    "print(familywise_income)"
   ]
  },
  {
   "cell_type": "markdown",
   "id": "13a898e4",
   "metadata": {},
   "source": [
    "##### <span style=\"color:#003f88\">b. Calculate and display the member with the highest monthly income in a family</span>\n"
   ]
  },
  {
   "cell_type": "code",
   "execution_count": 4,
   "id": "baa3cef3",
   "metadata": {},
   "outputs": [
    {
     "name": "stdout",
     "output_type": "stream",
     "text": [
      "Member with Highest Monthly Income in Each Family:\n",
      "    Name  Gender  MonthlyIncome\n",
      "5  Kumar    Male       103000.0\n",
      "0   Shah    Male       114000.0\n",
      "4   Vats  Female       155000.0\n"
     ]
    }
   ],
   "source": [
    "max_income_member = df.groupby('Name')['MonthlyIncome'].idxmax()\n",
    "# print(max_income_member) #store the index of max income in a family\n",
    "highest_income_members = df.loc[max_income_member]\n",
    "print(\"Member with Highest Monthly Income in Each Family:\")\n",
    "print(highest_income_members)"
   ]
  },
  {
   "cell_type": "markdown",
   "id": "9a91aada",
   "metadata": {},
   "source": [
    "##### <span style=\"color:#003f88\">c. Calculate and display monthly income of all members with income greater than Rs.60000.00</span>"
   ]
  },
  {
   "cell_type": "code",
   "execution_count": 5,
   "id": "4a937319",
   "metadata": {},
   "outputs": [
    {
     "name": "stdout",
     "output_type": "stream",
     "text": [
      "Monthly Income of Members with Income > Rs. 60000.00:\n",
      "    Name  MonthlyIncome\n",
      "0   Shah       114000.0\n",
      "1   Vats        65000.0\n",
      "3  Kumar        69500.0\n",
      "4   Vats       155000.0\n",
      "5  Kumar       103000.0\n",
      "7   Shah       112400.0\n",
      "8  Kumar        81030.0\n",
      "9   Vats        71900.0\n"
     ]
    }
   ],
   "source": [
    "high_income_members = df[df['MonthlyIncome'] > 60000.00]\n",
    "print(\"Monthly Income of Members with Income > Rs. 60000.00:\")\n",
    "print(high_income_members[['Name', 'MonthlyIncome']])"
   ]
  },
  {
   "cell_type": "markdown",
   "id": "b4aac39c",
   "metadata": {},
   "source": [
    "##### <span style=\"color:#003f88\">d. Calculate and display the average monthly income of the female members in the Shah family</span>"
   ]
  },
  {
   "cell_type": "code",
   "execution_count": 6,
   "id": "dec5875a",
   "metadata": {},
   "outputs": [
    {
     "name": "stdout",
     "output_type": "stream",
     "text": [
      "Average Monthly Income of Female Members in Shah Family: 112400.0\n"
     ]
    }
   ],
   "source": [
    "shah_female_avg_income = df[(df['Name'] == 'Shah') & (df['Gender'] =='Female')]['MonthlyIncome'].mean()\n",
    "print(\"Average Monthly Income of Female Members in Shah Family:\",shah_female_avg_income)"
   ]
  }
 ],
 "metadata": {
  "kernelspec": {
   "display_name": "Python 3 (ipykernel)",
   "language": "python",
   "name": "python3"
  },
  "language_info": {
   "codemirror_mode": {
    "name": "ipython",
    "version": 3
   },
   "file_extension": ".py",
   "mimetype": "text/x-python",
   "name": "python",
   "nbconvert_exporter": "python",
   "pygments_lexer": "ipython3",
   "version": "3.12.0"
  }
 },
 "nbformat": 4,
 "nbformat_minor": 5
}
