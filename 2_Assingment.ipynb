{
 "cells": [
  {
   "cell_type": "markdown",
   "id": "51fa19d6",
   "metadata": {},
   "source": [
    "#### <div style=\"color:#0077b6; text-align:right\">NAME : SANJHI JAIN</div>\n",
    "#### <div style=\"color:#0077b6; text-align:right\">ROLL NO : CSC/21/19</div>"
   ]
  },
  {
   "cell_type": "markdown",
   "id": "ade1dbbf",
   "metadata": {},
   "source": [
    "## <span style=\"color:#4a4e69\">PRACTICAL 02 </span>"
   ]
  },
  {
   "cell_type": "markdown",
   "id": "24157bf4",
   "metadata": {},
   "source": [
    "#### <span style=\"color:#007f5f\">Write programs in Python using NumPy library to do the following:</span>"
   ]
  },
  {
   "cell_type": "code",
   "execution_count": 2,
   "id": "b409ba4e",
   "metadata": {},
   "outputs": [],
   "source": [
    "# importing numpy library\n",
    "\n",
    "import numpy as np"
   ]
  },
  {
   "cell_type": "markdown",
   "id": "e007c8bf",
   "metadata": {},
   "source": [
    "##### <span style=\"color:#003f88\">a. Compute the mean, standard deviation, and variance of a two dimensional random integer array along the second axis</span>"
   ]
  },
  {
   "cell_type": "code",
   "execution_count": 3,
   "id": "6b2666fe",
   "metadata": {},
   "outputs": [
    {
     "name": "stdout",
     "output_type": "stream",
     "text": [
      "Random Integer array:\n",
      "[[ 1  4 10]\n",
      " [ 7 15  6]\n",
      " [16 18 17]\n",
      " [10 18 15]]\n"
     ]
    }
   ],
   "source": [
    "#creating random 2d array of size (4x3)\n",
    "\n",
    "rd_array=np.random.randint(21,size=(4,3))\n",
    "\n",
    "print(\"Random Integer array:\")\n",
    "print(rd_array)"
   ]
  },
  {
   "cell_type": "code",
   "execution_count": 4,
   "id": "bf1e72a8",
   "metadata": {},
   "outputs": [
    {
     "name": "stdout",
     "output_type": "stream",
     "text": [
      "Mean along second axis :  [ 5.          9.33333333 17.         14.33333333]\n"
     ]
    }
   ],
   "source": [
    "#calculating mean along second axis\n",
    "\n",
    "array_mean=rd_array.mean(axis=1)\n",
    "print(\"Mean along second axis : \",array_mean)"
   ]
  },
  {
   "cell_type": "code",
   "execution_count": 5,
   "id": "f1c0ea68",
   "metadata": {},
   "outputs": [
    {
     "name": "stdout",
     "output_type": "stream",
     "text": [
      "Standard Deviation along second axis :  [3.74165739 4.02768199 0.81649658 3.29983165]\n"
     ]
    }
   ],
   "source": [
    "#calculating standard deviation along second axis\n",
    "\n",
    "array_standard_deviation=rd_array.std(axis=1)\n",
    "print(\"Standard Deviation along second axis : \",array_standard_deviation)"
   ]
  },
  {
   "cell_type": "code",
   "execution_count": 6,
   "id": "827534cf",
   "metadata": {},
   "outputs": [
    {
     "name": "stdout",
     "output_type": "stream",
     "text": [
      "variance along second axis :  [14.         16.22222222  0.66666667 10.88888889]\n"
     ]
    }
   ],
   "source": [
    "#calculating variance along second axis\n",
    "\n",
    "array_variance=rd_array.var(axis=1)\n",
    "print(\"variance along second axis : \",array_variance)"
   ]
  },
  {
   "cell_type": "markdown",
   "id": "13a898e4",
   "metadata": {},
   "source": [
    "##### <span style=\"color:#003f88\">b.Get the indices of the sorted elements of a given array.</span>\n",
    "##### <span style=\"color:#007f5f\"> a. B = [56, 48, 22, 41, 78, 91, 24, 46, 8, 33]</span>"
   ]
  },
  {
   "cell_type": "code",
   "execution_count": 7,
   "id": "baa3cef3",
   "metadata": {},
   "outputs": [
    {
     "data": {
      "text/plain": [
       "array([8, 2, 6, 9, 3, 7, 1, 0, 4, 5], dtype=int64)"
      ]
     },
     "execution_count": 7,
     "metadata": {},
     "output_type": "execute_result"
    }
   ],
   "source": [
    "#soretd indices \n",
    "\n",
    "B=np.array([56,48,22,41,78,91,24,46,8,33])\n",
    "B.argsort()"
   ]
  },
  {
   "cell_type": "markdown",
   "id": "9a91aada",
   "metadata": {},
   "source": [
    "##### <span style=\"color:#003f88\">c. Create a 2-dimensional array of size m x n integer elements, also print the shape, type and data type of the array and then reshape it into nx m array, n and m are user inputs given at the run time.\n",
    "</span>"
   ]
  },
  {
   "cell_type": "code",
   "execution_count": 8,
   "id": "4a937319",
   "metadata": {},
   "outputs": [
    {
     "name": "stdin",
     "output_type": "stream",
     "text": [
      "Enter number of rows(m) :  5\n",
      "Enter number of column(n) :  3\n"
     ]
    },
    {
     "name": "stdout",
     "output_type": "stream",
     "text": [
      "===============================\n",
      " \t Random 2d array\n",
      "\n",
      " [[51 44 72]\n",
      " [19 30 38]\n",
      " [71 80 96]\n",
      " [99 96 89]\n",
      " [94 46 68]] \n",
      "===============================\n",
      "Shape of the array :  (5, 3)\n",
      "Type of the array  :  <class 'numpy.ndarray'>\n",
      "Data type of the array :  int32\n",
      "\n",
      "\n",
      "Reshaped array (n) x (m) :  3  x  5\n",
      "[[51 44 72 19 30]\n",
      " [38 71 80 96 99]\n",
      " [96 89 94 46 68]]\n"
     ]
    }
   ],
   "source": [
    "#creating mxn array by user input\n",
    "\n",
    "row=int(input(\"Enter number of rows(m) : \"))\n",
    "col=int(input(\"Enter number of column(n) : \"))\n",
    "\n",
    "#-------generating random 2d array--------------\n",
    "user_array=np.random.randint(100,size=(row,col))\n",
    "\n",
    "#-----------------------------------------------\n",
    "print(\"===============================\\n \\t Random 2d array\\n\\n\",user_array,\"\\n===============================\")\n",
    "\n",
    "print(\"Shape of the array : \",np.shape(user_array))\n",
    "\n",
    "print(\"Type of the array  : \",type(user_array))\n",
    "\n",
    "print(\"Data type of the array : \",user_array.dtype)\n",
    "\n",
    "#-------------------------------------------------\n",
    "print(\"\\n\\nReshaped array (n) x (m) : \",col,\" x \",row)\n",
    "print(user_array.reshape(col,row))"
   ]
  },
  {
   "cell_type": "markdown",
   "id": "b4aac39c",
   "metadata": {},
   "source": [
    "##### <span style=\"color:#003f88\">d. Test whether the elements of a given array are zero, non-zero and NaN. Record the indices of these elements in three separate arrays.\n",
    "</span>"
   ]
  },
  {
   "cell_type": "code",
   "execution_count": 9,
   "id": "dec5875a",
   "metadata": {},
   "outputs": [
    {
     "name": "stdout",
     "output_type": "stream",
     "text": [
      "[[ 1.  2.  0.]\n",
      " [ 0.  6.  4.]\n",
      " [nan  0. 10.]\n",
      " [20. nan 15.]]\n"
     ]
    }
   ],
   "source": [
    "#--created a custom array 2d array--------\n",
    "array = np.array([[1,2,0],[0,6,4],[np.nan,0,10],[20,np.nan,15]])\n",
    "print(array)"
   ]
  },
  {
   "cell_type": "code",
   "execution_count": 10,
   "id": "cb720241",
   "metadata": {},
   "outputs": [
    {
     "name": "stdout",
     "output_type": "stream",
     "text": [
      "[[2 0]\n",
      " [3 1]]\n"
     ]
    }
   ],
   "source": [
    "#finding indices of NaN records\n",
    "res= np.argwhere(np.isnan(array))\n",
    "print(res)"
   ]
  },
  {
   "cell_type": "code",
   "execution_count": 11,
   "id": "26671bf9",
   "metadata": {},
   "outputs": [
    {
     "name": "stdout",
     "output_type": "stream",
     "text": [
      "[[0 2]\n",
      " [1 0]\n",
      " [2 1]]\n"
     ]
    }
   ],
   "source": [
    "#finding indicies of zero elements in the array\n",
    "res= np.argwhere(array==0)\n",
    "print(res)"
   ]
  },
  {
   "cell_type": "code",
   "execution_count": 12,
   "id": "b79ac1dc",
   "metadata": {},
   "outputs": [
    {
     "name": "stdout",
     "output_type": "stream",
     "text": [
      "[[0 0]\n",
      " [0 1]\n",
      " [1 1]\n",
      " [1 2]\n",
      " [2 0]\n",
      " [2 2]\n",
      " [3 0]\n",
      " [3 1]\n",
      " [3 2]]\n"
     ]
    }
   ],
   "source": [
    "#finding indicies of nonzero elements in the array\n",
    "res= np.argwhere(array)\n",
    "print(res)"
   ]
  },
  {
   "cell_type": "code",
   "execution_count": null,
   "id": "d585e688-8edf-4144-9e36-4062c08ac24e",
   "metadata": {},
   "outputs": [],
   "source": []
  }
 ],
 "metadata": {
  "kernelspec": {
   "display_name": "Python 3 (ipykernel)",
   "language": "python",
   "name": "python3"
  },
  "language_info": {
   "codemirror_mode": {
    "name": "ipython",
    "version": 3
   },
   "file_extension": ".py",
   "mimetype": "text/x-python",
   "name": "python",
   "nbconvert_exporter": "python",
   "pygments_lexer": "ipython3",
   "version": "3.11.5"
  }
 },
 "nbformat": 4,
 "nbformat_minor": 5
}
